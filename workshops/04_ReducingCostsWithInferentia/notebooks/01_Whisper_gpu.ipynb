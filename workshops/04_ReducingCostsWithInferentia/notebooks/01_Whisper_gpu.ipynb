{
 "cells": [
  {
   "cell_type": "code",
   "execution_count": 15,
   "id": "620c207e-3c22-44cc-a80d-abd16ff526e6",
   "metadata": {},
   "outputs": [],
   "source": [
    "%%capture\n",
    "!pip install -U sagemaker librosa"
   ]
  },
  {
   "cell_type": "code",
   "execution_count": 5,
   "id": "89da4d16-57a2-4c96-a67d-56709db7b764",
   "metadata": {},
   "outputs": [
    {
     "name": "stdout",
     "output_type": "stream",
     "text": [
      "sagemaker.config INFO - Not applying SDK defaults from location: /etc/xdg/sagemaker/config.yaml\n",
      "sagemaker.config INFO - Not applying SDK defaults from location: /home/sagemaker-user/.config/sagemaker/config.yaml\n",
      "arn:aws:iam::582575198414:role/service-role/AmazonSageMaker-ExecutionRole-20241216T115527\n"
     ]
    }
   ],
   "source": [
    "import sagemaker\n",
    "import boto3\n",
    "from sagemaker.huggingface import HuggingFaceModel\n",
    "\n",
    "session = sagemaker.Session(boto_session=boto3.Session(region_name='us-east-1'))\n",
    "\n",
    "try:\n",
    "\trole = sagemaker.get_execution_role()\n",
    "except ValueError:\n",
    "\tiam = boto3.client('iam')\n",
    "\trole = iam.get_role(RoleName='sagemaker_execution_role')['Role']['Arn']\n",
    "print(role)"
   ]
  },
  {
   "cell_type": "code",
   "execution_count": 5,
   "id": "71bfd453-5f1b-41f7-9616-b08a412ae5f6",
   "metadata": {},
   "outputs": [],
   "source": [
    "# Hub Model configuration. https://huggingface.co/models\n",
    "hub = {\n",
    "\t'HF_MODEL_ID':'openai/whisper-large-v3',\n",
    "\t'HF_TASK':'automatic-speech-recognition'\n",
    "}\n",
    "\n",
    "# create Hugging Face Model Class\n",
    "huggingface_model = HuggingFaceModel(\n",
    "\ttransformers_version='4.49.0',\n",
    "\tpytorch_version='2.6.0',\n",
    "\tpy_version='py312',\n",
    "\tenv=hub,\n",
    "\trole=role,\n",
    "    sagemaker_session=session\n",
    ")"
   ]
  },
  {
   "cell_type": "code",
   "execution_count": 7,
   "id": "ceffc95b-9c7d-4963-8f4d-f92941e4eabe",
   "metadata": {},
   "outputs": [],
   "source": [
    "instance_type='ml.g5.12xlarge'\n",
    "instance_type='ml.g5.xlarge'\n",
    "instance_type='ml.g6.xlarge'"
   ]
  },
  {
   "cell_type": "code",
   "execution_count": 7,
   "id": "99a3206f-e518-49bb-8216-d1fdefcee63a",
   "metadata": {},
   "outputs": [
    {
     "name": "stdout",
     "output_type": "stream",
     "text": [
      "-----------!"
     ]
    }
   ],
   "source": [
    "# deploy model to SageMaker Inference\n",
    "predictor = huggingface_model.deploy(\n",
    "\tinitial_instance_count=1, # number of instances\n",
    "\tinstance_type=instance_type # ec2 instance type\n",
    ")"
   ]
  },
  {
   "cell_type": "code",
   "execution_count": 12,
   "id": "66e72707-27df-43b0-a80c-021b4f43f42f",
   "metadata": {},
   "outputs": [],
   "source": [
    "# from sagemaker.predictor import Predictor\n",
    "# predictor = Predictor(\n",
    "#     endpoint_name=\"huggingface-pytorch-inference-2025-10-07-07-54-46-074\",\n",
    "#     sagemaker_session=session\n",
    "# )"
   ]
  },
  {
   "cell_type": "code",
   "execution_count": 13,
   "id": "04a1730f-9b02-4bb0-a0e3-7945d135dddc",
   "metadata": {},
   "outputs": [],
   "source": [
    "from sagemaker.serializers import DataSerializer\n",
    "from sagemaker.deserializers import JSONDeserializer\t\n",
    "\n",
    "predictor.serializer = DataSerializer(content_type='audio/x-audio')\n",
    "predictor.deserializer = JSONDeserializer()"
   ]
  },
  {
   "cell_type": "code",
   "execution_count": 14,
   "id": "cd68133b-ae15-4180-89f4-6733edb28e12",
   "metadata": {},
   "outputs": [
    {
     "data": {
      "text/plain": [
       "{'text': ' I have a dream that one day this nation will rise up and live out the true meaning of its creed.'}"
      ]
     },
     "execution_count": 14,
     "metadata": {},
     "output_type": "execute_result"
    }
   ],
   "source": [
    "# Make sure the input file \"sample1.flac\" exists\n",
    "with open(\"mlk.flac\", \"rb\") as f:\n",
    "\tdata = f.read()\n",
    "predictor.predict(data)"
   ]
  },
  {
   "cell_type": "code",
   "execution_count": 2,
   "id": "956d2348-6d0f-416b-adf1-8152a9c71359",
   "metadata": {},
   "outputs": [
    {
     "data": {
      "text/plain": [
       "13.0"
      ]
     },
     "execution_count": 2,
     "metadata": {},
     "output_type": "execute_result"
    }
   ],
   "source": [
    "import librosa\n",
    "duration = librosa.get_duration(path=\"mlk.flac\")\n",
    "duration"
   ]
  },
  {
   "cell_type": "code",
   "execution_count": 15,
   "id": "2781d93d-8996-4543-b0f2-4efb56871a8a",
   "metadata": {},
   "outputs": [
    {
     "data": {
      "text/plain": [
       "1.7723254919052125"
      ]
     },
     "execution_count": 15,
     "metadata": {},
     "output_type": "execute_result"
    }
   ],
   "source": [
    "import time\n",
    "iters = 10\n",
    "\n",
    "start = time.time()\n",
    "for i in range(0,iters):\n",
    "    predictor.predict(data)\n",
    "end = time.time()\n",
    "\n",
    "transcription_time = (end-start)/iters\n",
    "transcription_time"
   ]
  },
  {
   "cell_type": "code",
   "execution_count": 8,
   "id": "8b66254a-2e08-4731-a85f-56646400e953",
   "metadata": {},
   "outputs": [],
   "source": [
    "pricing = boto3.client('pricing', region_name='us-east-1')\n",
    "\n",
    "response = pricing.get_products(\n",
    "    ServiceCode='AmazonSageMaker',\n",
    "    Filters=[\n",
    "        {'Type': 'TERM_MATCH', 'Field': 'instanceType', 'Value': instance_type},\n",
    "        {'Type': 'TERM_MATCH', 'Field': 'productFamily', 'Value': 'ML Instance'},\n",
    "        {'Type': 'TERM_MATCH', 'Field': 'location', 'Value': 'US West (Oregon)'}\n",
    "    ]\n",
    ")"
   ]
  },
  {
   "cell_type": "code",
   "execution_count": 9,
   "id": "54105534-ac23-4303-be6f-f7389acb35a7",
   "metadata": {},
   "outputs": [
    {
     "data": {
      "text/plain": [
       "1.127"
      ]
     },
     "execution_count": 9,
     "metadata": {},
     "output_type": "execute_result"
    }
   ],
   "source": [
    "import json\n",
    "data = json.loads(response['PriceList'][0])\n",
    "on_demand = data['terms']['OnDemand']\n",
    "first_term = next(iter(on_demand.values()))\n",
    "first_dimension = next(iter(first_term['priceDimensions'].values()))\n",
    "price = float(first_dimension['pricePerUnit']['USD'])\n",
    "price"
   ]
  },
  {
   "cell_type": "code",
   "execution_count": 16,
   "id": "c96b28ed-4449-4950-b984-f6eeb589c570",
   "metadata": {},
   "outputs": [
    {
     "data": {
      "text/plain": [
       "4.2679718576435357e-05"
      ]
     },
     "execution_count": 16,
     "metadata": {},
     "output_type": "execute_result"
    }
   ],
   "source": [
    "price_to_transcrivbe_1_sec = price / (3600.0/transcription_time*duration)\n",
    "price_to_transcrivbe_1_sec"
   ]
  },
  {
   "cell_type": "code",
   "execution_count": 17,
   "id": "e28010b5-dd3d-4303-a4a1-308ad3e86b7f",
   "metadata": {},
   "outputs": [],
   "source": [
    "predictor.delete_model()\n",
    "predictor.delete_endpoint()"
   ]
  },
  {
   "cell_type": "code",
   "execution_count": null,
   "id": "6e83bce1-3f68-4132-93e9-e64ac301cd19",
   "metadata": {},
   "outputs": [],
   "source": []
  }
 ],
 "metadata": {
  "kernelspec": {
   "display_name": "Python 3 (ipykernel)",
   "language": "python",
   "name": "python3"
  },
  "language_info": {
   "codemirror_mode": {
    "name": "ipython",
    "version": 3
   },
   "file_extension": ".py",
   "mimetype": "text/x-python",
   "name": "python",
   "nbconvert_exporter": "python",
   "pygments_lexer": "ipython3",
   "version": "3.11.10"
  }
 },
 "nbformat": 4,
 "nbformat_minor": 5
}
